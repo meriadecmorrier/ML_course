{
 "cells": [
  {
   "cell_type": "code",
   "execution_count": 1,
   "metadata": {
    "execution": {
     "iopub.execute_input": "2022-10-20T20:24:25.034463Z",
     "iopub.status.busy": "2022-10-20T20:24:25.034120Z",
     "iopub.status.idle": "2022-10-20T20:24:26.420571Z",
     "shell.execute_reply": "2022-10-20T20:24:26.419813Z"
    }
   },
   "outputs": [],
   "source": [
    "%matplotlib inline\n",
    "import numpy as np\n",
    "import matplotlib.pyplot as plt\n",
    "\n",
    "%load_ext autoreload\n",
    "%autoreload 2\n",
    "\n",
    "# Load test module for sanity check\n",
    "from test_utils import test"
   ]
  },
  {
   "cell_type": "markdown",
   "metadata": {
    "id": "TYyZPqnPmhYC"
   },
   "source": [
    "Data Generation\n",
    "==="
   ]
  },
  {
   "cell_type": "code",
   "execution_count": 2,
   "metadata": {
    "execution": {
     "iopub.execute_input": "2022-10-20T20:24:26.423626Z",
     "iopub.status.busy": "2022-10-20T20:24:26.423437Z",
     "iopub.status.idle": "2022-10-20T20:24:26.440936Z",
     "shell.execute_reply": "2022-10-20T20:24:26.440230Z"
    }
   },
   "outputs": [],
   "source": [
    "from numpy.random import rand, randn"
   ]
  },
  {
   "cell_type": "code",
   "execution_count": 3,
   "metadata": {
    "execution": {
     "iopub.execute_input": "2022-10-20T20:24:26.444023Z",
     "iopub.status.busy": "2022-10-20T20:24:26.443804Z",
     "iopub.status.idle": "2022-10-20T20:24:26.461776Z",
     "shell.execute_reply": "2022-10-20T20:24:26.461091Z"
    }
   },
   "outputs": [],
   "source": [
    "n, d, k = 100, 2, 2"
   ]
  },
  {
   "cell_type": "code",
   "execution_count": 7,
   "metadata": {
    "execution": {
     "iopub.execute_input": "2022-10-20T20:24:26.464754Z",
     "iopub.status.busy": "2022-10-20T20:24:26.464495Z",
     "iopub.status.idle": "2022-10-20T20:24:26.484105Z",
     "shell.execute_reply": "2022-10-20T20:24:26.483496Z"
    }
   },
   "outputs": [
    {
     "name": "stdout",
     "output_type": "stream",
     "text": [
      "[array([0.69872366, 0.75176984]), array([0.25997411, 0.14504062])]\n",
      "[array([[0.01764816, 0.        ],\n",
      "       [0.        , 0.06360523]]), array([[0.01764816, 0.        ],\n",
      "       [0.        , 0.06360523]])]\n"
     ]
    }
   ],
   "source": [
    "np.random.seed(20)\n",
    "X = rand(n, d)\n",
    "\n",
    "# means = [rand(d)  for _ in range(k)]  # works for any k\n",
    "means = [rand(d) * 0.5 + 0.5, -rand(d) * 0.5 + 0.5]  # for better plotting when k = 2\n",
    "\n",
    "S = np.diag(rand(d))\n",
    "\n",
    "sigmas = [S] * k  # we'll use the same Sigma for all clusters for better visual results\n",
    "\n",
    "print(means)\n",
    "print(sigmas)"
   ]
  },
  {
   "cell_type": "code",
   "execution_count": 32,
   "metadata": {},
   "outputs": [],
   "source": [
    "from scipy.stats import multivariate_normal\n",
    "y=multivariate_normal.pdf(X,means[0],sigmas[0])"
   ]
  },
  {
   "cell_type": "code",
   "execution_count": 33,
   "metadata": {},
   "outputs": [
    {
     "data": {
      "text/plain": [
       "array([2.84129901e+00, 1.60437497e+00, 1.81372790e-05, 1.70090210e-01,\n",
       "       3.92269290e-01, 2.72755247e-02, 3.59884701e+00, 7.22515831e-02,\n",
       "       3.22516948e-04, 1.72020315e-03, 1.70682908e+00, 2.11248415e-01,\n",
       "       2.42142110e+00, 3.93040086e+00, 5.77629065e-01, 4.33830262e+00,\n",
       "       6.35469071e-04, 2.29786250e+00, 6.28298917e-02, 4.81621202e-03,\n",
       "       3.04968901e+00, 2.90879897e-02, 1.54307568e-02, 1.11358518e-03,\n",
       "       1.85261078e-01, 1.81636219e+00, 3.87921977e+00, 3.13338099e+00,\n",
       "       4.21229615e+00, 3.67625856e-01, 2.83900629e-02, 4.13758867e+00,\n",
       "       2.03216632e+00, 5.04963651e-02, 8.10545533e-02, 3.11784251e+00,\n",
       "       1.46489773e+00, 1.33956106e-01, 1.93253832e+00, 2.11977679e-02,\n",
       "       2.87283256e-05, 3.47177964e-03, 7.08872347e-03, 2.27082344e-01,\n",
       "       1.00414144e-05, 4.08425735e+00, 8.10404958e-07, 1.07289443e+00,\n",
       "       8.92665283e-01, 1.73232949e+00, 1.04915651e+00, 7.24079609e-02,\n",
       "       3.25634195e-01, 7.66337108e-02, 2.12451089e-01, 3.82460478e-01,\n",
       "       6.64857893e-01, 3.24283435e-02, 9.89805664e-01, 1.08476417e-04,\n",
       "       5.06342856e-03, 5.93334806e-03, 2.85702154e+00, 1.00914057e+00,\n",
       "       3.55770962e-01, 4.72381229e+00, 1.58331025e+00, 8.35702805e-01,\n",
       "       1.73539319e-02, 3.33588383e-02, 5.35021883e-05, 3.72629801e+00,\n",
       "       2.53557612e-01, 2.22050401e-04, 1.15217105e+00, 2.22285108e-01,\n",
       "       2.63786690e-01, 3.13112840e+00, 2.75349750e+00, 2.91547861e-04,\n",
       "       6.42975662e-02, 3.36221312e+00, 3.62308876e+00, 3.13613618e+00,\n",
       "       2.16691747e+00, 1.10130477e-02, 4.61812842e-01, 4.56651403e-01,\n",
       "       4.72856491e+00, 5.43550055e-01, 4.81247608e-01, 2.97275297e-03,\n",
       "       1.02960414e+00, 1.07741282e-03, 4.55013458e+00, 1.37618321e+00,\n",
       "       2.76912590e-01, 2.22244621e-05, 1.94004960e+00, 2.83745055e+00])"
      ]
     },
     "execution_count": 33,
     "metadata": {},
     "output_type": "execute_result"
    }
   ],
   "source": [
    "y"
   ]
  },
  {
   "cell_type": "markdown",
   "metadata": {
    "id": "VsIOpA8QmhYI"
   },
   "source": [
    "## Computing the probability density"
   ]
  },
  {
   "cell_type": "code",
   "execution_count": 20,
   "metadata": {},
   "outputs": [],
   "source": [
    "from scipy.stats import multivariate_normal"
   ]
  },
  {
   "cell_type": "code",
   "execution_count": 44,
   "metadata": {},
   "outputs": [],
   "source": [
    "def compute_p(X, mean, sigma):\n",
    "    \"\"\"\n",
    "    Implement\n",
    "    \"\"\"\n",
    "    y=multivariate_normal.pdf(X,mean,sigma)\n",
    "    return(y.prod())\n"
   ]
  },
  {
   "cell_type": "code",
   "execution_count": 45,
   "metadata": {},
   "outputs": [],
   "source": [
    "ps = [\n",
    "    compute_p(X, m, s) for m, s in zip(means, sigmas)\n",
    "]  # exercise: try to do this without looping"
   ]
  },
  {
   "cell_type": "code",
   "execution_count": 46,
   "metadata": {},
   "outputs": [
    {
     "name": "stdout",
     "output_type": "stream",
     "text": [
      "0\n"
     ]
    }
   ],
   "source": [
    "assignments = np.argmax(ps, axis=0)\n",
    "print(assignments)"
   ]
  },
  {
   "cell_type": "code",
   "execution_count": 47,
   "metadata": {},
   "outputs": [
    {
     "data": {
      "image/png": "[encoded data removed]",
      "text/plain": [
       "<Figure size 640x480 with 1 Axes>"
      ]
     },
     "metadata": {},
     "output_type": "display_data"
    }
   ],
   "source": [
    "colors = np.array([\"red\", \"green\"])[assignments]\n",
    "plt.scatter(X[:, 0], X[:, 1], c=colors, s=100)\n",
    "plt.scatter(np.array(means)[:, 0], np.array(means)[:, 1], marker=\"*\", s=200)\n",
    "plt.show()"
   ]
  },
  {
   "cell_type": "markdown",
   "metadata": {},
   "source": [
    "## Computing the log-probability directly\n",
    "\n",
    "**Why log?** - Our goal is to compare probabilities to see to which of the two stars a point belongs.\n",
    "\n",
    "But the formula for the probability is a bit heavy, with multiplications and exponents.\n",
    "\n",
    "By applying a log transform, we get additions and multiplications, which is easer to handle, and does not impact the comparison - if `a > b`, `log(a) > log(b)`.\n",
    "\n",
    "(If it does not make sense - don't worry - you'll see this in the coming lectures)\n"
   ]
  },
  {
   "cell_type": "code",
   "execution_count": 50,
   "metadata": {
    "execution": {
     "iopub.execute_input": "2022-10-20T20:24:26.486741Z",
     "iopub.status.busy": "2022-10-20T20:24:26.486587Z",
     "iopub.status.idle": "2022-10-20T20:24:26.504445Z",
     "shell.execute_reply": "2022-10-20T20:24:26.503717Z"
    }
   },
   "outputs": [],
   "source": [
    "def compute_log_p(X, mean, sigma):\n",
    "    \"\"\"\n",
    "    Implement\n",
    "    \"\"\"\n",
    "    y=multivariate_normal.pdf(X,mean,sigma)\n",
    "    y=np.log(y)\n",
    "    return(y.sum())"
   ]
  },
  {
   "cell_type": "code",
   "execution_count": 51,
   "metadata": {
    "execution": {
     "iopub.execute_input": "2022-10-20T20:24:26.507393Z",
     "iopub.status.busy": "2022-10-20T20:24:26.507172Z",
     "iopub.status.idle": "2022-10-20T20:24:26.524997Z",
     "shell.execute_reply": "2022-10-20T20:24:26.524215Z"
    }
   },
   "outputs": [],
   "source": [
    "log_ps = [\n",
    "    compute_log_p(X, m, s) for m, s in zip(means, sigmas)\n",
    "]  # exercise: try to do this without looping"
   ]
  },
  {
   "cell_type": "code",
   "execution_count": 53,
   "metadata": {
    "execution": {
     "iopub.execute_input": "2022-10-20T20:24:26.528004Z",
     "iopub.status.busy": "2022-10-20T20:24:26.527804Z",
     "iopub.status.idle": "2022-10-20T20:24:26.545859Z",
     "shell.execute_reply": "2022-10-20T20:24:26.545266Z"
    }
   },
   "outputs": [
    {
     "name": "stdout",
     "output_type": "stream",
     "text": [
      "0\n"
     ]
    }
   ],
   "source": [
    "assignments = np.argmax(log_ps, axis=0)\n",
    "print(assignments)"
   ]
  },
  {
   "cell_type": "code",
   "execution_count": 42,
   "metadata": {
    "execution": {
     "iopub.execute_input": "2022-10-20T20:24:26.548579Z",
     "iopub.status.busy": "2022-10-20T20:24:26.548369Z",
     "iopub.status.idle": "2022-10-20T20:24:26.697987Z",
     "shell.execute_reply": "2022-10-20T20:24:26.697569Z"
    }
   },
   "outputs": [
    {
     "data": {
      "image/png": "[encoded data removed]",
      "text/plain": [
       "<Figure size 640x480 with 1 Axes>"
      ]
     },
     "metadata": {},
     "output_type": "display_data"
    }
   ],
   "source": [
    "colors = np.array([\"red\", \"green\"])[assignments]\n",
    "plt.scatter(X[:, 0], X[:, 1], c=colors, s=100)\n",
    "plt.scatter(np.array(means)[:, 0], np.array(means)[:, 1], marker=\"*\", s=200)\n",
    "plt.show()"
   ]
  },
  {
   "cell_type": "code",
   "execution_count": null,
   "metadata": {},
   "outputs": [],
   "source": []
  }
 ],
 "metadata": {
  "kernelspec": {
   "display_name": "Python 3",
   "language": "python",
   "name": "python3"
  },
  "language_info": {
   "codemirror_mode": {
    "name": "ipython",
    "version": 3
   },
   "file_extension": ".py",
   "mimetype": "text/x-python",
   "name": "python",
   "nbconvert_exporter": "python",
   "pygments_lexer": "ipython3",
   "version": "3.9.13"
  }
 },
 "nbformat": 4,
 "nbformat_minor": 1
}
