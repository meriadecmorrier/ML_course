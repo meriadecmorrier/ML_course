{
 "cells": [
  {
   "cell_type": "code",
   "execution_count": 1,
   "metadata": {
    "execution": {
     "iopub.execute_input": "2022-10-20T20:24:03.493973Z",
     "iopub.status.busy": "2022-10-20T20:24:03.493124Z",
     "iopub.status.idle": "2022-10-20T20:24:04.894997Z",
     "shell.execute_reply": "2022-10-20T20:24:04.894300Z"
    }
   },
   "outputs": [],
   "source": [
    "%matplotlib inline\n",
    "import numpy as np\n",
    "import matplotlib.pyplot as plt\n",
    "\n",
    "%load_ext autoreload\n",
    "%autoreload 2\n",
    "\n",
    "# Load test module for sanity check\n",
    "from test_utils import test"
   ]
  },
  {
   "cell_type": "markdown",
   "metadata": {},
   "source": [
    "Data Generation\n",
    "==="
   ]
  },
  {
   "cell_type": "code",
   "execution_count": 40,
   "metadata": {
    "execution": {
     "iopub.execute_input": "2022-10-20T20:24:04.898188Z",
     "iopub.status.busy": "2022-10-20T20:24:04.897973Z",
     "iopub.status.idle": "2022-10-20T20:24:04.917947Z",
     "shell.execute_reply": "2022-10-20T20:24:04.917312Z"
    }
   },
   "outputs": [
    {
     "name": "stdout",
     "output_type": "stream",
     "text": [
      "[[0.77132064 0.02075195]\n",
      " [0.63364823 0.74880388]\n",
      " [0.49850701 0.22479665]\n",
      " [0.19806286 0.76053071]] \n",
      "\n",
      " [[0.16911084 0.08833981]\n",
      " [0.68535982 0.95339335]\n",
      " [0.00394827 0.51219226]\n",
      " [0.81262096 0.61252607]\n",
      " [0.72175532 0.29187607]]\n"
     ]
    }
   ],
   "source": [
    "np.random.seed(10)\n",
    "P, Q = (np.random.rand(i, 2) for i in (4, 5))\n",
    "P_big, Q_big = (np.random.rand(i, 80) for i in (100, 120))\n",
    "\n",
    "print(P, \"\\n\\n\", Q)"
   ]
  },
  {
   "cell_type": "markdown",
   "metadata": {},
   "source": [
    "Solution\n",
    "==="
   ]
  },
  {
   "cell_type": "code",
   "execution_count": 42,
   "metadata": {
    "execution": {
     "iopub.execute_input": "2022-10-20T20:24:04.920919Z",
     "iopub.status.busy": "2022-10-20T20:24:04.920725Z",
     "iopub.status.idle": "2022-10-20T20:24:04.939743Z",
     "shell.execute_reply": "2022-10-20T20:24:04.939032Z"
    }
   },
   "outputs": [
    {
     "name": "stdout",
     "output_type": "stream",
     "text": [
      "❌ The are some issues with your implementation of `naive`:\n",
      "**********************************************************************\n",
      "File \"__main__\", line 11, in naive\n",
      "Failed example:\n",
      "    naive(np.array([[0, 1]]), np.array([[2, 3], [4, 5]]))\n",
      "Expected:\n",
      "    array([[2.82842712, 5.65685425]])\n",
      "Got:\n",
      "    (1, 2)\n",
      "    array([[2.82842712, 5.65685425]])\n",
      "**********************************************************************\n"
     ]
    }
   ],
   "source": [
    "def naive(P, Q):\n",
    "    \"\"\"\n",
    "    A naive solution for finding pairvise distances between poins in P and Q\n",
    "    \n",
    "    Args:\n",
    "        P: numpy array of shape=(p, 2)\n",
    "        Q: numpy array of shape=(q, 2)\n",
    "    Returns:\n",
    "        D: numpy array of shape=(p*q,)\n",
    "        \n",
    "    >>> naive(np.array([[0, 1]]), np.array([[2, 3], [4, 5]]))\n",
    "    array([[2.82842712, 5.65685425]])\n",
    "    \"\"\"\n",
    "    # ***************************************************\n",
    "    # INSERT YOUR CODE HERE\n",
    "    # TODO: implement a naive solution\n",
    "    # ***************************************************\n",
    "    \n",
    "    D=np.ones((1,P.shape[0]*Q.shape[0]))  \n",
    "\n",
    "    for i in range(P.shape[0]):\n",
    "        for j in range(Q.shape[0]):\n",
    "            D[0,i*Q.shape[0]+j]=np.sqrt((P[i,0]-Q[j,0])**2+(P[i,1]-Q[j,1])**2)\n",
    "\n",
    "    print(D.shape)\n",
    "    return D\n",
    "\n",
    "test(naive)"
   ]
  },
  {
   "cell_type": "markdown",
   "metadata": {},
   "source": [
    "### Use matching indices\n",
    "\n",
    "Instead of iterating through indices, one can use them directly to parallelize the operations with Numpy."
   ]
  },
  {
   "cell_type": "code",
   "execution_count": 16,
   "metadata": {
    "execution": {
     "iopub.execute_input": "2022-10-20T20:24:04.964250Z",
     "iopub.status.busy": "2022-10-20T20:24:04.964043Z",
     "iopub.status.idle": "2022-10-20T20:24:04.982806Z",
     "shell.execute_reply": "2022-10-20T20:24:04.982133Z"
    }
   },
   "outputs": [
    {
     "name": "stdout",
     "output_type": "stream",
     "text": [
      "[[0 0 0 0 0]\n",
      " [1 1 1 1 1]\n",
      " [2 2 2 2 2]\n",
      " [3 3 3 3 3]]\n",
      "\n",
      "[[0 1 2 3 4]\n",
      " [0 1 2 3 4]\n",
      " [0 1 2 3 4]\n",
      " [0 1 2 3 4]]\n"
     ]
    }
   ],
   "source": [
    "rows, cols = np.indices((P.shape[0], Q.shape[0]))\n",
    "print(rows, end=\"\\n\\n\")\n",
    "print(cols)"
   ]
  },
  {
   "cell_type": "code",
   "execution_count": 57,
   "metadata": {
    "execution": {
     "iopub.execute_input": "2022-10-20T20:24:05.007153Z",
     "iopub.status.busy": "2022-10-20T20:24:05.006990Z",
     "iopub.status.idle": "2022-10-20T20:24:05.025444Z",
     "shell.execute_reply": "2022-10-20T20:24:05.024566Z"
    }
   },
   "outputs": [
    {
     "name": "stdout",
     "output_type": "stream",
     "text": [
      "❌ The are some issues with your implementation of `with_indices`:\n",
      "**********************************************************************\n",
      "File \"__main__\", line 11, in with_indices\n",
      "Failed example:\n",
      "    with_indices(np.array([[0, 1]]), np.array([[2, 3], [4, 5]]))\n",
      "Expected:\n",
      "    array([[2.82842712, 5.65685425]])\n",
      "Got:\n",
      "    array([2.82842712, 5.65685425])\n",
      "**********************************************************************\n"
     ]
    }
   ],
   "source": [
    "def with_indices(P, Q):\n",
    "    \"\"\"\n",
    "    An optimized solution using matching indices\n",
    "    \n",
    "    Args:\n",
    "        P: numpy array of shape=(p, 2)\n",
    "        Q: numpy array of shape=(q, 2)\n",
    "    Returns:\n",
    "        D: numpy array of shape=(p*q,)\n",
    "        \n",
    "    >>> with_indices(np.array([[0, 1]]), np.array([[2, 3], [4, 5]]))\n",
    "    array([[2.82842712, 5.65685425]])\n",
    "    \"\"\"\n",
    "    # ***************************************************\n",
    "    # INSERT YOUR CODE HERE\n",
    "    # TODO: implement an optimized solution\n",
    "    # ***************************************************\n",
    "    rows, cols = np.indices((P.shape[0], Q.shape[0]))\n",
    "\n",
    "    result=np.sqrt(np.square(P[rows.ravel()]-Q[cols.ravel()]).sum(axis=1))\n",
    "    \n",
    "    return(result)\n",
    "test(with_indices)"
   ]
  },
  {
   "cell_type": "code",
   "execution_count": 56,
   "metadata": {},
   "outputs": [
    {
     "data": {
      "text/plain": [
       "array([0.36722477, 0.87720924, 0.83037395, 0.35190232, 0.07596501,\n",
       "       0.65200778, 0.04453094, 0.45250711, 0.05060288, 0.21654589,\n",
       "       0.12712231, 0.56576712, 0.32718459, 0.24900168, 0.05433945,\n",
       "       0.45267882, 0.27465432, 0.09935246, 0.39958703, 0.49389096])"
      ]
     },
     "execution_count": 56,
     "metadata": {},
     "output_type": "execute_result"
    }
   ],
   "source": [
    "np.square(P[rows.ravel()]-Q[cols.ravel()]).sum(axis=1)"
   ]
  },
  {
   "cell_type": "markdown",
   "metadata": {},
   "source": [
    "### Use a library\n",
    "\n",
    "`scipy` is the equivalent of matlab toolboxes and have a lot to offer. Actually the pairwise computation is part of the library through the `spatial` module."
   ]
  },
  {
   "cell_type": "code",
   "execution_count": 61,
   "metadata": {
    "execution": {
     "iopub.execute_input": "2022-10-20T20:24:05.049252Z",
     "iopub.status.busy": "2022-10-20T20:24:05.049036Z",
     "iopub.status.idle": "2022-10-20T20:24:05.163073Z",
     "shell.execute_reply": "2022-10-20T20:24:05.162042Z"
    }
   },
   "outputs": [],
   "source": [
    "from scipy.spatial.distance import cdist\n",
    "\n",
    "\n",
    "def scipy_version(P, Q):\n",
    "    return cdist(P, Q)"
   ]
  },
  {
   "cell_type": "markdown",
   "metadata": {},
   "source": [
    "### Numpy Magic"
   ]
  },
  {
   "cell_type": "code",
   "execution_count": 64,
   "metadata": {
    "execution": {
     "iopub.execute_input": "2022-10-20T20:24:05.166142Z",
     "iopub.status.busy": "2022-10-20T20:24:05.165972Z",
     "iopub.status.idle": "2022-10-20T20:24:05.186045Z",
     "shell.execute_reply": "2022-10-20T20:24:05.185266Z"
    }
   },
   "outputs": [],
   "source": [
    "def tensor_broadcasting(P, Q):\n",
    "    return np.sqrt(np.sum((P[:, np.newaxis, :] - Q[np.newaxis, :, :]) ** 2, axis=2))"
   ]
  },
  {
   "cell_type": "markdown",
   "metadata": {},
   "source": [
    "# Compare methods"
   ]
  },
  {
   "cell_type": "code",
   "execution_count": 65,
   "metadata": {
    "execution": {
     "iopub.execute_input": "2022-10-20T20:24:05.189406Z",
     "iopub.status.busy": "2022-10-20T20:24:05.189070Z",
     "iopub.status.idle": "2022-10-20T20:24:23.553170Z",
     "shell.execute_reply": "2022-10-20T20:24:23.552472Z"
    }
   },
   "outputs": [
    {
     "name": "stdout",
     "output_type": "stream",
     "text": [
      "(1, 12000)\n",
      "(1, 12000)\n",
      "(1, 12000)\n",
      "(1, 12000)\n",
      "(1, 12000)\n",
      "(1, 12000)\n",
      "(1, 12000)\n",
      "(1, 12000)\n",
      "(1, 12000)\n",
      "(1, 12000)\n",
      "(1, 12000)\n",
      "(1, 12000)\n",
      "(1, 12000)\n",
      "(1, 12000)\n",
      "(1, 12000)\n",
      "(1, 12000)\n",
      "(1, 12000)\n",
      "(1, 12000)\n",
      "(1, 12000)\n",
      "(1, 12000)\n",
      "(1, 12000)\n",
      "(1, 12000)\n",
      "(1, 12000)\n",
      "(1, 12000)\n",
      "(1, 12000)\n",
      "(1, 12000)\n",
      "(1, 12000)\n",
      "(1, 12000)\n",
      "(1, 12000)\n",
      "(1, 12000)\n",
      "(1, 12000)\n",
      "(1, 12000)\n",
      "(1, 12000)\n",
      "(1, 12000)\n",
      "(1, 12000)\n",
      "(1, 12000)\n",
      "(1, 12000)\n",
      "(1, 12000)\n",
      "(1, 12000)\n",
      "(1, 12000)\n",
      "(1, 12000)\n",
      "(1, 12000)\n",
      "(1, 12000)\n",
      "(1, 12000)\n",
      "(1, 12000)\n",
      "(1, 12000)\n",
      "(1, 12000)\n",
      "(1, 12000)\n",
      "(1, 12000)\n",
      "(1, 12000)\n",
      "(1, 12000)\n",
      "(1, 12000)\n",
      "(1, 12000)\n",
      "(1, 12000)\n",
      "(1, 12000)\n",
      "(1, 12000)\n",
      "(1, 12000)\n",
      "(1, 12000)\n",
      "(1, 12000)\n",
      "(1, 12000)\n",
      "(1, 12000)\n",
      "(1, 12000)\n",
      "(1, 12000)\n",
      "(1, 12000)\n",
      "(1, 12000)\n",
      "(1, 12000)\n",
      "(1, 12000)\n",
      "(1, 12000)\n",
      "(1, 12000)\n",
      "(1, 12000)\n",
      "(1, 12000)\n",
      "(1, 12000)\n",
      "(1, 12000)\n",
      "(1, 12000)\n",
      "(1, 12000)\n",
      "(1, 12000)\n",
      "(1, 12000)\n",
      "(1, 12000)\n",
      "(1, 12000)\n",
      "(1, 12000)\n",
      "(1, 12000)\n",
      "96.4 ms ± 16.5 ms per loop (mean ± std. dev. of 7 runs, 10 loops each)\n",
      "22.2 ms ± 3.37 ms per loop (mean ± std. dev. of 7 runs, 10 loops each)\n",
      "1.45 ms ± 123 µs per loop (mean ± std. dev. of 7 runs, 1000 loops each)\n",
      "11.7 ms ± 735 µs per loop (mean ± std. dev. of 7 runs, 100 loops each)\n"
     ]
    }
   ],
   "source": [
    "methods = [\n",
    "    naive,\n",
    "    with_indices,\n",
    "    scipy_version,\n",
    "    tensor_broadcasting,\n",
    "]\n",
    "timers = []\n",
    "for f in methods:\n",
    "    r = %timeit -o f(P_big, Q_big)\n",
    "    timers.append(r)"
   ]
  },
  {
   "cell_type": "code",
   "execution_count": 66,
   "metadata": {
    "execution": {
     "iopub.execute_input": "2022-10-20T20:24:23.556268Z",
     "iopub.status.busy": "2022-10-20T20:24:23.556065Z",
     "iopub.status.idle": "2022-10-20T20:24:23.666345Z",
     "shell.execute_reply": "2022-10-20T20:24:23.665736Z"
    }
   },
   "outputs": [
    {
     "data": {
      "image/png": "[encoded data removed]",
      "text/plain": [
       "<Figure size 1000x600 with 1 Axes>"
      ]
     },
     "metadata": {},
     "output_type": "display_data"
    }
   ],
   "source": [
    "plt.figure(figsize=(10, 6))\n",
    "plt.bar(\n",
    "    np.arange(len(methods)), [r.best * 1000 for r in timers], log=False\n",
    ")  # Set log to True for logarithmic scale\n",
    "plt.xticks(np.arange(len(methods)) + 0.2, [f.__name__ for f in methods], rotation=30)\n",
    "plt.xlabel(\"Method\")\n",
    "plt.ylabel(\"Time (ms)\")\n",
    "plt.show()"
   ]
  },
  {
   "cell_type": "code",
   "execution_count": null,
   "metadata": {},
   "outputs": [],
   "source": []
  }
 ],
 "metadata": {
  "kernelspec": {
   "display_name": "Python 3",
   "language": "python",
   "name": "python3"
  },
  "language_info": {
   "codemirror_mode": {
    "name": "ipython",
    "version": 3
   },
   "file_extension": ".py",
   "mimetype": "text/x-python",
   "name": "python",
   "nbconvert_exporter": "python",
   "pygments_lexer": "ipython3",
   "version": "3.9.13"
  }
 },
 "nbformat": 4,
 "nbformat_minor": 1
}
