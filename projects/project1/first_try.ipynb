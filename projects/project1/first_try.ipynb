{
 "cells": [
  {
   "cell_type": "code",
   "execution_count": 1,
   "metadata": {},
   "outputs": [],
   "source": [
    "from helpers import *\n",
    "from implementations import *\n",
    "import matplotlib.pyplot as plt"
   ]
  },
  {
   "cell_type": "code",
   "execution_count": 2,
   "metadata": {},
   "outputs": [],
   "source": [
    "x = np.genfromtxt('data/x_train.csv', delimiter=\",\",skip_header=1)\n",
    "y = np.genfromtxt('data/y_train.csv', delimiter=\",\",skip_header=1)\n",
    "\n",
    "x=x[::50]\n",
    "y=y[::50]\n",
    "\n",
    "xs=x\n",
    "ys=y\n",
    "\n",
    "y[np.where(y==0)[0]]=-1"
   ]
  },
  {
   "cell_type": "code",
   "execution_count": 15,
   "metadata": {},
   "outputs": [
    {
     "name": "stdout",
     "output_type": "stream",
     "text": [
      "[  0.   0.   0.   0.   0.   0.   0.   0.   0.  43.  43. 100.  43.  43.\n",
      " 100.  43.  43.  43.  57.  57.  57.  57. 100.  57.  57.  58.   0.   0.\n",
      "   0.  48.   0.   0.   0.   0.   0.  60.   0.  14.  14.   0.   0.  87.\n",
      "   0.   0.   0.   0.   0.   0.   0.  88.   0.   0.   0.   0.  43.  97.\n",
      "  43.   0.   0.   0.   1.   1.   1.   1.  84.   2.   2.   2.   3.   3.\n",
      "   3.   3.   3.  59.  86.  73.   3.   3.  53.  53.  53.   6.   6.   6.\n",
      "   6.   7.   7.   7.  32.  32.  32.  32.  54.  54.   8.  70.  70.  70.\n",
      "  70.   9.   9.  56.  56.   9.   9.  74.  74.  81.  81.  94.  94.  94.\n",
      "  94.  94.  94.  94.  94.  94.  75.  95.  95.  95.  95.  95.  95.  95.\n",
      "  80.  99.  99.  99. 100.  99.  99.  99.  99.  99.  74.  97.  97.  99.\n",
      "  97.  97.  91.  94.  91. 100. 100. 100. 100. 100. 100. 100. 100. 100.\n",
      " 100. 100. 100.  96.  97.  99.  99.  99.  95.  95.  95.  95.  91.  97.\n",
      " 100.  93.  95.  96.  95.  95.  95.  98.  95.  99.  99.  88.  96.  88.\n",
      "  91.  91.  99.  99.  99.  99.  99.  99. 100. 100.  84.  83.  92.  92.\n",
      "  95.  91.  63.  63.  85.  85.  87.  99.  96.  96.  96.  96.  96.  96.\n",
      "  96.  96.  96.  96.  96.  96.   0.   0.  44.   0.   0.   0.   0.  27.\n",
      "  84.  84.  86.   0.  37.   0.   0.   0.   0.   0.  14.   0.   0.   0.\n",
      "   1.   0.   0.   0.   0.   0.   0.   2.   0.   0.   0.   0.   4.   3.\n",
      "   7.   8.   8.   0.   0.   0.   0.   0.   0.   0.   0.   0.   0.   0.\n",
      "   8.   8.   8.   8.   8.   9.   0.   0.   0.   0.   9.  11.   0.   0.\n",
      "   0.   0.   0.   0.   0.  32.  33.   0.   0.  33.  34.  34.  55.  33.\n",
      "  54.  34.  35.   9.   0.  35.  35.  33.  34.  35.  33.   0.   0.   0.\n",
      "   0.   0.   0.   0.   0.   1.   1.   1.   0.   0.  65.  65.   9.]\n"
     ]
    }
   ],
   "source": [
    "#Checking at the importance of nan values for each variable\n",
    "is_nan=np.sum(np.isnan(x),axis=0)\n",
    "print(np.round(is_nan*100/x.shape[0],decimals=0)) # % of nan values, rounded to unit"
   ]
  },
  {
   "cell_type": "code",
   "execution_count": 16,
   "metadata": {},
   "outputs": [
    {
     "name": "stdout",
     "output_type": "stream",
     "text": [
      "Now only  92  variables left.\n"
     ]
    }
   ],
   "source": [
    "#Removes all the variable with at least one nan value\n",
    "x=x[:,np.where(is_nan==0)[0]]\n",
    "print(\"Now only \", x.shape[1], \" variables left.\")"
   ]
  },
  {
   "cell_type": "code",
   "execution_count": 17,
   "metadata": {},
   "outputs": [],
   "source": [
    "#Removing constant variables\n",
    "means=x.mean(axis=0)\n",
    "stds=x.std(axis=0)\n",
    "x=x[:,np.where(stds!=0)[0]]"
   ]
  },
  {
   "cell_type": "code",
   "execution_count": 18,
   "metadata": {},
   "outputs": [],
   "source": [
    "#Columns standardization\n",
    "std_x=(x-x.mean(axis=0))/x.std(axis=0)"
   ]
  },
  {
   "cell_type": "code",
   "execution_count": 19,
   "metadata": {},
   "outputs": [],
   "source": [
    "w, loss = ridge_regression(y,std_x,0.1)"
   ]
  },
  {
   "cell_type": "code",
   "execution_count": 20,
   "metadata": {},
   "outputs": [
    {
     "data": {
      "text/plain": [
       "4048"
      ]
     },
     "execution_count": 20,
     "metadata": {},
     "output_type": "execute_result"
    }
   ],
   "source": [
    "preds=np.dot(std_x,w)\n",
    "preds[np.where(preds<=0)[0]]=-1\n",
    "preds[np.where(preds>0)[0]]=1"
   ]
  },
  {
   "cell_type": "code",
   "execution_count": 28,
   "metadata": {},
   "outputs": [
    {
     "name": "stdout",
     "output_type": "stream",
     "text": [
      "Accuracy of  61.7 %\n"
     ]
    }
   ],
   "source": [
    "#Accuracy\n",
    "print(\"Accuracy of \", np.round(100*np.sum(y==preds)/y.shape[0],1),'%')"
   ]
  }
 ],
 "metadata": {
  "kernelspec": {
   "display_name": "base",
   "language": "python",
   "name": "python3"
  },
  "language_info": {
   "codemirror_mode": {
    "name": "ipython",
    "version": 3
   },
   "file_extension": ".py",
   "mimetype": "text/x-python",
   "name": "python",
   "nbconvert_exporter": "python",
   "pygments_lexer": "ipython3",
   "version": "3.9.13"
  }
 },
 "nbformat": 4,
 "nbformat_minor": 2
}
